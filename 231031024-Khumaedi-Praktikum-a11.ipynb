{
 "cells": [
  {
   "cell_type": "code",
   "execution_count": 4,
   "metadata": {},
   "outputs": [
    {
     "name": "stdout",
     "output_type": "stream",
     "text": [
      "6765\n"
     ]
    }
   ],
   "source": [
    "#Fungsi Rekursif Fibonacci\n",
    "def fibonacci(n):\n",
    " if n<0:\n",
    "    print('Tidak ada bilangan yang bernilai negatif')\n",
    " if n==0 or n==1:\n",
    "    return n\n",
    " else:\n",
    "    return fibonacci(n-1) + fibonacci(n-2)\n",
    "#Program Utama\n",
    "hasil=fibonacci(20)\n",
    "print(hasil)\n"
   ]
  },
  {
   "cell_type": "code",
   "execution_count": 2,
   "metadata": {},
   "outputs": [
    {
     "name": "stdout",
     "output_type": "stream",
     "text": [
      "6765\n"
     ]
    }
   ],
   "source": [
    "#Fungsi Rekursif Fibonacci yang akan menerima input\n",
    "def fibonacci(n):\n",
    " if n<0:\n",
    "    print('Tidak ada bilangan yang bernilai negatif')\n",
    " if n==0 or n==1:\n",
    "    return n\n",
    " else:\n",
    "    return fibonacci(n-1) + fibonacci(n-2)\n",
    "#Program Utama\n",
    "fib = fibonacci(int(input(\"masukkan sebuah bilangan: \")))\n",
    "# hasil=fibonacci(20)\n",
    "print(fib)"
   ]
  }
 ],
 "metadata": {
  "kernelspec": {
   "display_name": "Python 3",
   "language": "python",
   "name": "python3"
  },
  "language_info": {
   "codemirror_mode": {
    "name": "ipython",
    "version": 3
   },
   "file_extension": ".py",
   "mimetype": "text/x-python",
   "name": "python",
   "nbconvert_exporter": "python",
   "pygments_lexer": "ipython3",
   "version": "3.11.5"
  }
 },
 "nbformat": 4,
 "nbformat_minor": 2
}
