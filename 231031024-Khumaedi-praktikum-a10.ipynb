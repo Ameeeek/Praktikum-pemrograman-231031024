{
 "cells": [
  {
   "cell_type": "code",
   "execution_count": 2,
   "metadata": {},
   "outputs": [
    {
     "name": "stdout",
     "output_type": "stream",
     "text": [
      " 0 ! = 1\n",
      " 1 ! = 1\n",
      " 2 ! = 2\n",
      " 3 ! = 6\n",
      " 4 ! = 24\n",
      " 5 ! = 120\n",
      " 6 ! = 720\n",
      " 7 ! = 5040\n",
      " 8 ! = 40320\n",
      " 9 ! = 362880\n",
      "10 ! = 3628800\n"
     ]
    }
   ],
   "source": [
    "#Fungsi Rekursif factorial dengan perulangan\n",
    "def faktorial(nilai):\n",
    " if nilai<=1:\n",
    "    return 1\n",
    " else:\n",
    "    return nilai*faktorial(nilai-1)\n",
    "#Program Utama\n",
    "for i in range(11):\n",
    " print('%2d ! = %d' % (i,faktorial(i)))\n"
   ]
  },
  {
   "cell_type": "code",
   "execution_count": 1,
   "metadata": {},
   "outputs": [
    {
     "name": "stdout",
     "output_type": "stream",
     "text": [
      "10946\n"
     ]
    }
   ],
   "source": [
    "#Fungsi Rekursif Fibonacci\n",
    "def fibonacci(n):\n",
    " if n<0:\n",
    "    print('Tidak ada bilangan yang bernilai negatif')\n",
    " if n==0 or n==1:\n",
    "    return n\n",
    " else:\n",
    "    return fibonacci(n-1) + fibonacci(n-2)\n",
    "#Program Utama\n",
    "hasil=fibonacci(21)\n",
    "print(hasil)\n"
   ]
  }
 ],
 "metadata": {
  "kernelspec": {
   "display_name": "Python 3",
   "language": "python",
   "name": "python3"
  },
  "language_info": {
   "codemirror_mode": {
    "name": "ipython",
    "version": 3
   },
   "file_extension": ".py",
   "mimetype": "text/x-python",
   "name": "python",
   "nbconvert_exporter": "python",
   "pygments_lexer": "ipython3",
   "version": "3.11.5"
  }
 },
 "nbformat": 4,
 "nbformat_minor": 2
}
